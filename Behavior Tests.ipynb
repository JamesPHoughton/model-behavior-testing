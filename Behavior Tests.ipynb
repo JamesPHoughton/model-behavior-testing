{
 "cells": [
  {
   "cell_type": "code",
   "execution_count": 37,
   "metadata": {
    "collapsed": false
   },
   "outputs": [
    {
     "name": "stdout",
     "output_type": "stream",
     "text": [
      "Populating the interactive namespace from numpy and matplotlib\n"
     ]
    }
   ],
   "source": [
    "%pylab inline\n",
    "import pandas as pd\n",
    "import pysd"
   ]
  },
  {
   "cell_type": "code",
   "execution_count": 29,
   "metadata": {
    "collapsed": false
   },
   "outputs": [
    {
     "data": {
      "text/html": [
       "<div>\n",
       "<table border=\"1\" class=\"dataframe\">\n",
       "  <thead>\n",
       "    <tr style=\"text-align: right;\">\n",
       "      <th></th>\n",
       "      <th>Infected</th>\n",
       "      <th>Susceptible</th>\n",
       "    </tr>\n",
       "  </thead>\n",
       "  <tbody>\n",
       "    <tr>\n",
       "      <th>0.0000</th>\n",
       "      <td>10.000000</td>\n",
       "      <td>9.999990e+06</td>\n",
       "    </tr>\n",
       "    <tr>\n",
       "      <th>0.0625</th>\n",
       "      <td>10.312500</td>\n",
       "      <td>9.999990e+06</td>\n",
       "    </tr>\n",
       "    <tr>\n",
       "      <th>0.1250</th>\n",
       "      <td>10.634765</td>\n",
       "      <td>9.999989e+06</td>\n",
       "    </tr>\n",
       "    <tr>\n",
       "      <th>0.1875</th>\n",
       "      <td>10.967101</td>\n",
       "      <td>9.999989e+06</td>\n",
       "    </tr>\n",
       "    <tr>\n",
       "      <th>0.2500</th>\n",
       "      <td>11.309823</td>\n",
       "      <td>9.999989e+06</td>\n",
       "    </tr>\n",
       "  </tbody>\n",
       "</table>\n",
       "</div>"
      ],
      "text/plain": [
       "         Infected   Susceptible\n",
       "0.0000  10.000000  9.999990e+06\n",
       "0.0625  10.312500  9.999990e+06\n",
       "0.1250  10.634765  9.999989e+06\n",
       "0.1875  10.967101  9.999989e+06\n",
       "0.2500  11.309823  9.999989e+06"
      ]
     },
     "execution_count": 29,
     "metadata": {},
     "output_type": "execute_result"
    }
   ],
   "source": [
    "model = pysd.read_vensim('SI.mdl')\n",
    "result = model.run()\n",
    "result.head()"
   ]
  },
  {
   "cell_type": "code",
   "execution_count": 30,
   "metadata": {
    "collapsed": false
   },
   "outputs": [
    {
     "data": {
      "text/plain": [
       "True"
      ]
     },
     "execution_count": 30,
     "metadata": {},
     "output_type": "execute_result"
    }
   ],
   "source": [
    "def test_initial_growth(result):\n",
    "    \"\"\" Ensure that the initial values of the first and second \n",
    "    derivative of the infected population are both positive \"\"\"\n",
    "    first_deriv = result['Infected'].diff()\n",
    "    second_deriv = first_deriv.diff()\n",
    "    if (first_deriv.dropna().iloc[0] > 0 and \n",
    "        second_deriv.dropna().iloc[0] > 0):\n",
    "        return True\n",
    "\n",
    "test_initial_growth(result)"
   ]
  },
  {
   "cell_type": "code",
   "execution_count": null,
   "metadata": {
    "collapsed": true
   },
   "outputs": [],
   "source": []
  },
  {
   "cell_type": "code",
   "execution_count": 31,
   "metadata": {
    "collapsed": false
   },
   "outputs": [
    {
     "data": {
      "text/plain": [
       "True"
      ]
     },
     "execution_count": 31,
     "metadata": {},
     "output_type": "execute_result"
    }
   ],
   "source": [
    "model = pysd.read_vensim('SI.mdl')\n",
    "result = model.run()\n",
    "test_initial_growth(result)"
   ]
  },
  {
   "cell_type": "code",
   "execution_count": 34,
   "metadata": {
    "collapsed": false
   },
   "outputs": [
    {
     "data": {
      "text/plain": [
       "[{'Initial Infected': 0},\n",
       " {'Initial Infected': 1},\n",
       " {'Initial Infected': 2},\n",
       " {'Initial Infected': 3}]"
      ]
     },
     "execution_count": 34,
     "metadata": {},
     "output_type": "execute_result"
    }
   ],
   "source": [
    "def any_condition(conditions, test):\n",
    "    for condition in conditions:\n",
    "        result = model.run(params=condition)\n",
    "        if test(result):\n",
    "            return True\n",
    "    return False\n",
    "        \n",
    "conditions = [{'Initial Infected':i} for i in range(4)]\n",
    "conditions"
   ]
  },
  {
   "cell_type": "code",
   "execution_count": 33,
   "metadata": {
    "collapsed": false
   },
   "outputs": [
    {
     "data": {
      "text/plain": [
       "True"
      ]
     },
     "execution_count": 33,
     "metadata": {},
     "output_type": "execute_result"
    }
   ],
   "source": [
    "any_condition(conditions, test_initial_growth)"
   ]
  },
  {
   "cell_type": "markdown",
   "metadata": {},
   "source": [
    "## Data replication test"
   ]
  },
  {
   "cell_type": "code",
   "execution_count": 183,
   "metadata": {
    "collapsed": false
   },
   "outputs": [],
   "source": [
    "model = pysd.read_vensim('SI_cumulative.mdl')"
   ]
  },
  {
   "cell_type": "code",
   "execution_count": 184,
   "metadata": {
    "collapsed": false
   },
   "outputs": [
    {
     "data": {
      "image/png": "[encoded data removed]",
      "text/plain": [
       "<matplotlib.figure.Figure at 0x11e60e750>"
      ]
     },
     "metadata": {},
     "output_type": "display_data"
    }
   ],
   "source": [
    "data = pd.read_csv('Ebola_in_SL_Data.csv', index_col='Weeks')\n",
    "data['Cumulative Cases'].plot(figsize=(6,2))\n",
    "plt.title('Ebola in Sierra Leone')\n",
    "plt.savefig('Ebola_SL_Cumulative.png')"
   ]
  },
  {
   "cell_type": "code",
   "execution_count": 185,
   "metadata": {
    "collapsed": true
   },
   "outputs": [],
   "source": [
    "import scipy.optimize as opt\n",
    "model.set_components({'Total Population':5200000.0,\n",
    "                      'Initial Infected':3.0})"
   ]
  },
  {
   "cell_type": "code",
   "execution_count": 186,
   "metadata": {
    "collapsed": false
   },
   "outputs": [
    {
     "data": {
      "text/plain": [
       "0.95565883491915427"
      ]
     },
     "execution_count": 186,
     "metadata": {},
     "output_type": "execute_result"
    }
   ],
   "source": [
    "def mape_error(param_list):\n",
    "    result = model.run({'Contact Rate': param_list[0]})\n",
    "    return (abs((result - data)/data)).mean()['Cumulative Cases']\n",
    "\n",
    "mape_error([3])"
   ]
  },
  {
   "cell_type": "code",
   "execution_count": 187,
   "metadata": {
    "collapsed": false
   },
   "outputs": [
    {
     "data": {
      "text/plain": [
       "      fun: 0.78848263725317913\n",
       " hess_inv: <1x1 LbfgsInvHessProduct with dtype=float64>\n",
       "      jac: array([ 0.04574843])\n",
       "  message: 'CONVERGENCE: REL_REDUCTION_OF_F_<=_FACTR*EPSMCH'\n",
       "     nfev: 144\n",
       "      nit: 7\n",
       "   status: 0\n",
       "  success: True\n",
       "        x: array([ 5.26592354])"
      ]
     },
     "execution_count": 187,
     "metadata": {},
     "output_type": "execute_result"
    }
   ],
   "source": [
    "res = opt.minimize(mape_error, 10, method='L-BFGS-B', bounds=[(0,100)])\n",
    "res"
   ]
  },
  {
   "cell_type": "code",
   "execution_count": 189,
   "metadata": {
    "collapsed": false
   },
   "outputs": [
    {
     "data": {
      "image/png": "[encoded data removed]",
      "text/plain": [
       "<matplotlib.figure.Figure at 0x11f2c38d0>"
      ]
     },
     "metadata": {},
     "output_type": "display_data"
    }
   ],
   "source": [
    "result = model.run({'Contact Rate': res.x[0]})\n",
    "\n",
    "plt.figure(figsize=(6,2))\n",
    "plt.plot(data.index, data['Cumulative Cases'], label='Historical')\n",
    "plt.plot(result.index, result['Cumulative Cases'], label='Best Model Fit')\n",
    "plt.xlim([0, max(data.index)])\n",
    "plt.ylim(0,25000)\n",
    "plt.xlabel('Time [Days]')\n",
    "plt.ylabel('Cumulative Infections')\n",
    "plt.title('Model fit to Sierra Leone Ebola historical infections data')\n",
    "plt.text(20,20000,'MAPE: %.02f'%res.fun, color='r', fontsize=12)\n",
    "plt.legend(loc='upper left')\n",
    "plt.savefig('Ebola_SI_Best_Fit.png')"
   ]
  },
  {
   "cell_type": "code",
   "execution_count": 194,
   "metadata": {
    "collapsed": false
   },
   "outputs": [
    {
     "data": {
      "text/plain": [
       "False"
      ]
     },
     "execution_count": 194,
     "metadata": {},
     "output_type": "execute_result"
    }
   ],
   "source": [
    "import scipy.optimize as opt\n",
    "data = pd.read_csv('Ebola_in_SL_Data.csv', index_col='Weeks')\n",
    "\n",
    "def test_data_fit(data, max_mape):\n",
    "    model.set_components({'Total Population':5200000.0,\n",
    "                          'Initial Infected':3.0})\n",
    "\n",
    "    def mape_error(param_list):\n",
    "        result = model.run({'Contact Rate': param_list[0]})\n",
    "        return (abs((result - data)/data)).mean()['Cumulative Cases']\n",
    "\n",
    "    res = opt.minimize(mape_error, 10, method='L-BFGS-B', bounds=[(0,100)])\n",
    "    return res.fun < max_mape\n",
    "\n",
    "test_data_fit(data, 0.5)"
   ]
  },
  {
   "cell_type": "markdown",
   "metadata": {
    "collapsed": true
   },
   "source": [
    "# Data Replication on SIR"
   ]
  },
  {
   "cell_type": "code",
   "execution_count": 206,
   "metadata": {
    "collapsed": false
   },
   "outputs": [],
   "source": [
    "model = pysd.read_vensim('SIR.mdl')"
   ]
  },
  {
   "cell_type": "code",
   "execution_count": 210,
   "metadata": {
    "collapsed": false
   },
   "outputs": [
    {
     "name": "stdout",
     "output_type": "stream",
     "text": [
      "[  5.  30.]\n",
      "[  5.00000001  30.        ]\n",
      "[  5.          30.00000001]\n",
      "[  5.00216763  30.00006757]\n",
      "[  5.00216764  30.00006757]\n",
      "[  5.00216763  30.00006758]\n",
      "[  5.00433742  30.00013521]\n",
      "[  5.00433743  30.00013521]\n",
      "[  5.00433742  30.00013522]\n",
      "[  5.01301657  30.0004058 ]\n",
      "[  5.01301658  30.0004058 ]\n",
      "[  5.01301657  30.00040581]\n",
      "[  5.04773315  30.00148813]\n",
      "[  5.04773316  30.00148813]\n",
      "[  5.04773315  30.00148814]\n",
      "[  5.18659949  30.00581747]\n",
      "[  5.1865995   30.00581747]\n",
      "[  5.18659949  30.00581748]\n",
      "[  5.74206485  30.02313482]\n",
      "[  5.74206486  30.02313482]\n",
      "[  5.74206485  30.02313483]\n",
      "[  7.9639263   30.09240421]\n",
      "[  7.96392631  30.09240421]\n",
      "[  7.9639263   30.09240422]\n",
      "[ 16.85137211  30.36948177]\n",
      "[ 16.85137212  30.36948177]\n",
      "[ 16.85137211  30.36948178]\n",
      "[ 10.35102835  30.16682519]\n",
      "[ 10.35102836  30.16682519]\n",
      "[ 10.35102835  30.1668252 ]\n",
      "[ 13.21799025  30.25620641]\n",
      "[ 13.21799026  30.25620641]\n",
      "[ 13.21799025  30.25620642]\n",
      "[ 11.80208045  30.2120636 ]\n",
      "[ 11.80208046  30.2120636 ]\n",
      "[ 11.80208045  30.21206361]\n",
      "[ 11.87293426  30.21427256]\n",
      "[ 11.87293427  30.21427256]\n",
      "[ 11.87293426  30.21427257]\n",
      "[ 12.76067121  30.2419489 ]\n",
      "[ 12.76067122  30.2419489 ]\n",
      "[ 12.76067121  30.24194891]\n",
      "[ 11.97574029  30.21747767]\n",
      "[ 11.9757403   30.21747767]\n",
      "[ 11.97574029  30.21747768]\n",
      "[ 12.4937947   30.23362868]\n",
      "[ 12.49379471  30.23362868]\n",
      "[ 12.4937947   30.23362869]\n",
      "[ 11.97574029  30.21747767]\n",
      "[ 11.9757403   30.21747767]\n",
      "[ 11.97574029  30.21747768]\n",
      "[ 11.98864484  30.21797919]\n",
      "[ 11.98864485  30.21797919]\n",
      "[ 11.98864484  30.2179792 ]\n",
      "[ 12.04026307  30.21998528]\n",
      "[ 12.04026308  30.21998528]\n",
      "[ 12.04026307  30.21998529]\n",
      "[ 12.24673595  30.22800961]\n",
      "[ 12.24673596  30.22800961]\n",
      "[ 12.24673595  30.22800962]\n",
      "[ 12.06231245  30.2208422 ]\n",
      "[ 12.06231246  30.2208422 ]\n",
      "[ 12.06231245  30.22084221]\n",
      "[ 12.04851198  30.22030586]\n",
      "[ 12.04851199  30.22030586]\n",
      "[ 12.04851198  30.22030587]\n",
      "[ 12.05762029  30.22065985]\n",
      "[ 12.0576203   30.22065985]\n",
      "[ 12.05762029  30.22065986]\n",
      "[ 12.05025505  30.2203736 ]\n",
      "[ 12.05025506  30.2203736 ]\n",
      "[ 12.05025505  30.22037361]\n",
      "[ 12.05025505  30.2203736 ]\n",
      "[ 12.05025506  30.2203736 ]\n",
      "[ 12.05025505  30.22037361]\n",
      "[ 18.36641676  30.21297278]\n",
      "[ 18.36641677  30.21297278]\n",
      "[ 18.36641676  30.21297279]\n",
      "[ 13.01493244  30.21924326]\n",
      "[ 13.01493245  30.21924326]\n",
      "[ 13.01493244  30.21924327]\n",
      "[ 12.10855698  30.22030529]\n",
      "[ 12.10855699  30.22030529]\n",
      "[ 12.10855698  30.2203053 ]\n",
      "[ 12.05628732  30.22036653]\n",
      "[ 12.05628733  30.22036653]\n",
      "[ 12.05628732  30.22036654]\n",
      "[ 12.05108673  30.22037263]\n",
      "[ 12.05108674  30.22037263]\n",
      "[ 12.05108673  30.22037264]\n",
      "[ 12.05451912  30.22036861]\n",
      "[ 12.05451913  30.22036861]\n",
      "[ 12.05451912  30.22036862]\n",
      "[ 12.05146568  30.22037218]\n",
      "[ 12.05146569  30.22037218]\n",
      "[ 12.05146568  30.22037219]\n",
      "[ 12.05119999  30.2203725 ]\n",
      "[ 12.0512     30.2203725]\n",
      "[ 12.05119999  30.22037251]\n",
      "[ 12.05137534  30.22037229]\n",
      "[ 12.05137535  30.22037229]\n",
      "[ 12.05137534  30.2203723 ]\n",
      "[ 12.05123359  30.22037246]\n",
      "[ 12.0512336   30.22037246]\n",
      "[ 12.05123359  30.22037247]\n",
      "[ 12.05132715  30.22037235]\n",
      "[ 12.05132716  30.22037235]\n",
      "[ 12.05132715  30.22037236]\n",
      "[ 12.05123359  30.22037246]\n",
      "[ 12.0512336   30.22037246]\n",
      "[ 12.05123359  30.22037247]\n",
      "[ 17.52706652  29.97546601]\n",
      "[ 17.52706653  29.97546601]\n",
      "[ 17.52706652  29.97546602]\n",
      "[ 12.86129623  30.18414243]\n",
      "[ 12.86129624  30.18414243]\n",
      "[ 12.86129623  30.18414244]\n",
      "[ 12.09967526  30.2182059 ]\n",
      "[ 12.09967527  30.2182059 ]\n",
      "[ 12.09967526  30.21820591]\n",
      "[ 12.05612393  30.22015374]\n",
      "[ 12.05612394  30.22015374]\n",
      "[ 12.05612393  30.22015375]\n",
      "[ 12.05173525  30.22035002]\n",
      "[ 12.05173526  30.22035002]\n",
      "[ 12.05173525  30.22035003]\n",
      "[ 12.05128809  30.22037002]\n",
      "[ 12.0512881   30.22037002]\n",
      "[ 12.05128809  30.22037003]\n",
      "[ 12.05124574  30.22037191]\n",
      "[ 12.05124575  30.22037191]\n",
      "[ 12.05124574  30.22037192]\n",
      "[ 12.05127369  30.22037066]\n",
      "[ 12.0512737   30.22037066]\n",
      "[ 12.05127369  30.22037067]\n",
      "[ 12.05125044  30.2203717 ]\n",
      "[ 12.05125045  30.2203717 ]\n",
      "[ 12.05125044  30.22037171]\n",
      "[ 12.05126579  30.22037102]\n",
      "[ 12.0512658   30.22037102]\n",
      "[ 12.05126579  30.22037103]\n",
      "[ 12.0512525   30.22037161]\n",
      "[ 12.05125251  30.22037161]\n",
      "[ 12.0512525   30.22037162]\n",
      "[ 12.0512539   30.22037155]\n",
      "[ 12.05125391  30.22037155]\n",
      "[ 12.0512539   30.22037156]\n",
      "[ 12.0512525   30.22037161]\n",
      "[ 12.05125251  30.22037161]\n",
      "[ 12.0512525   30.22037162]\n",
      "[ 17.80493321  28.89000576]\n",
      "[ 17.80493322  28.89000576]\n",
      "[ 17.80493321  28.89000577]\n",
      "[ 12.91552396  30.0205348 ]\n",
      "[ 12.91552397  30.0205348 ]\n",
      "[ 12.91552396  30.02053481]\n",
      "[ 12.11282701  30.20613435]\n",
      "[ 12.11282702  30.20613435]\n",
      "[ 12.11282701  30.20613436]\n",
      "[ 12.05746193  30.21893587]\n",
      "[ 12.05746194  30.21893587]\n",
      "[ 12.05746193  30.21893588]\n",
      "[ 12.05188695  30.22022491]\n",
      "[ 12.05188696  30.22022491]\n",
      "[ 12.05188695  30.22022492]\n",
      "[ 12.05131745  30.22035659]\n",
      "[ 12.05131746  30.22035659]\n",
      "[ 12.05131745  30.2203566 ]\n",
      "[ 12.05125919  30.22037006]\n",
      "[ 12.0512592   30.22037006]\n",
      "[ 12.05125919  30.22037007]\n",
      "[ 12.05125323  30.22037144]\n",
      "[ 12.05125324  30.22037144]\n",
      "[ 12.05125323  30.22037145]\n",
      "[ 12.05125267  30.22037157]\n",
      "[ 12.05125268  30.22037157]\n",
      "[ 12.05125267  30.22037158]\n",
      "[ 12.05125304  30.22037149]\n",
      "[ 12.05125305  30.22037149]\n",
      "[ 12.05125304  30.2203715 ]\n",
      "[ 12.05125274  30.22037156]\n",
      "[ 12.05125275  30.22037156]\n",
      "[ 12.05125274  30.22037157]\n",
      "[ 12.05125294  30.22037151]\n",
      "[ 12.05125295  30.22037151]\n",
      "[ 12.05125294  30.22037152]\n",
      "[ 12.05125276  30.22037155]\n",
      "[ 12.05125277  30.22037155]\n",
      "[ 12.05125276  30.22037156]\n",
      "[ 12.05125269  30.22841266]\n",
      "[ 12.0512527   30.22841266]\n",
      "[ 12.05125269  30.22841267]\n",
      "[ 12.05125276  30.22098071]\n",
      "[ 12.05125277  30.22098071]\n",
      "[ 12.05125276  30.22098072]\n",
      "[ 12.05125276  30.22041771]\n",
      "[ 12.05125277  30.22041771]\n",
      "[ 12.05125276  30.22041772]\n",
      "[ 12.05125276  30.22037506]\n",
      "[ 12.05125277  30.22037506]\n",
      "[ 12.05125276  30.22037507]\n",
      "[ 12.05125276  30.22037183]\n",
      "[ 12.05125277  30.22037183]\n",
      "[ 12.05125276  30.22037184]\n",
      "[ 12.05125276  30.22037159]\n",
      "[ 12.05125277  30.22037159]\n",
      "[ 12.05125276  30.2203716 ]\n",
      "[ 12.05125276  30.22037162]\n",
      "[ 12.05125277  30.22037162]\n",
      "[ 12.05125276  30.22037163]\n",
      "[ 12.05125276  30.22037172]\n",
      "[ 12.05125277  30.22037172]\n",
      "[ 12.05125276  30.22037173]\n",
      "[ 12.05125276  30.22037163]\n",
      "[ 12.05125277  30.22037163]\n",
      "[ 12.05125276  30.22037164]\n",
      "[ 12.05125276  30.22037169]\n",
      "[ 12.05125277  30.22037169]\n",
      "[ 12.05125276  30.2203717 ]\n",
      "[ 12.05125276  30.22037164]\n",
      "[ 12.05125277  30.22037164]\n",
      "[ 12.05125276  30.22037165]\n",
      "      fun: 0.78351713132887579\n",
      " hess_inv: <2x2 LbfgsInvHessProduct with dtype=float64>\n",
      "      jac: array([ 0.02017145,  0.00030386])\n",
      "  message: 'CONVERGENCE: REL_REDUCTION_OF_F_<=_FACTR*EPSMCH'\n",
      "     nfev: 222\n",
      "      nit: 7\n",
      "   status: 0\n",
      "  success: True\n",
      "        x: array([ 12.05125276,  30.22037164])\n"
     ]
    },
    {
     "data": {
      "text/plain": [
       "False"
      ]
     },
     "execution_count": 210,
     "metadata": {},
     "output_type": "execute_result"
    }
   ],
   "source": [
    "import scipy.optimize as opt\n",
    "data = pd.read_csv('Ebola_in_SL_Data.csv', index_col='Weeks')\n",
    "\n",
    "def test_data_fit(data, max_mape):\n",
    "    model.set_components({'Total Population':5200000.0,\n",
    "                          'Initial Infected':3.0})\n",
    "\n",
    "    def mape_error(param_list):\n",
    "        print param_list\n",
    "        result = model.run({'Contact Rate': param_list[0], 'Recovery Time': param_list[1]})\n",
    "        #print result\n",
    "        return (abs((result - data)/data)).mean()['Cumulative Cases']\n",
    "\n",
    "    res = opt.minimize(mape_error, [5,30], method='L-BFGS-B', bounds=[(0,100),(0,50)])\n",
    "    print res\n",
    "    return res.fun < max_mape\n",
    "\n",
    "test_data_fit(data, 0.5)"
   ]
  },
  {
   "cell_type": "markdown",
   "metadata": {},
   "source": [
    "# Extreme Conditions Testing"
   ]
  },
  {
   "cell_type": "code",
   "execution_count": 282,
   "metadata": {
    "collapsed": false
   },
   "outputs": [
    {
     "data": {
      "text/html": [
       "<div>\n",
       "<table border=\"1\" class=\"dataframe\">\n",
       "  <thead>\n",
       "    <tr style=\"text-align: right;\">\n",
       "      <th></th>\n",
       "      <th></th>\n",
       "      <th>Infection</th>\n",
       "      <th>Recovery</th>\n",
       "    </tr>\n",
       "    <tr>\n",
       "      <th>Parameter</th>\n",
       "      <th>Value</th>\n",
       "      <th></th>\n",
       "      <th></th>\n",
       "    </tr>\n",
       "  </thead>\n",
       "  <tbody>\n",
       "    <tr>\n",
       "      <th>Susceptible</th>\n",
       "      <th>0.000000</th>\n",
       "      <td>0</td>\n",
       "      <td>-</td>\n",
       "    </tr>\n",
       "    <tr>\n",
       "      <th>Total Population</th>\n",
       "      <th>0.000000</th>\n",
       "      <td>0</td>\n",
       "      <td>0</td>\n",
       "    </tr>\n",
       "    <tr>\n",
       "      <th>Infected</th>\n",
       "      <th>0.000000</th>\n",
       "      <td>0</td>\n",
       "      <td>0</td>\n",
       "    </tr>\n",
       "    <tr>\n",
       "      <th>Contact Rate</th>\n",
       "      <th>0.000000</th>\n",
       "      <td>0</td>\n",
       "      <td>-</td>\n",
       "    </tr>\n",
       "    <tr>\n",
       "      <th>Recovery Time</th>\n",
       "      <th>inf</th>\n",
       "      <td>-</td>\n",
       "      <td>0</td>\n",
       "    </tr>\n",
       "    <tr>\n",
       "      <th>Infectivity</th>\n",
       "      <th>0.000000</th>\n",
       "      <td>0</td>\n",
       "      <td>-</td>\n",
       "    </tr>\n",
       "  </tbody>\n",
       "</table>\n",
       "</div>"
      ],
      "text/plain": [
       "                          Infection Recovery\n",
       "Parameter        Value                      \n",
       "Susceptible      0.000000         0        -\n",
       "Total Population 0.000000         0        0\n",
       "Infected         0.000000         0        0\n",
       "Contact Rate     0.000000         0        -\n",
       "Recovery Time    inf              -        0\n",
       "Infectivity      0.000000         0        -"
      ]
     },
     "execution_count": 282,
     "metadata": {},
     "output_type": "execute_result"
    }
   ],
   "source": [
    "tests = pd.read_excel('SIR_Extreme_Conditions.xlsx', index_col=[0,1])\n",
    "tests"
   ]
  },
  {
   "cell_type": "code",
   "execution_count": 284,
   "metadata": {
    "collapsed": false
   },
   "outputs": [
    {
     "name": "stdout",
     "output_type": "stream",
     "text": [
      "[u'When Total Population = 0.0, float division by zero']\n"
     ]
    }
   ],
   "source": [
    "\n",
    "tests = pd.read_excel('SIR_Extreme_Conditions.xlsx', index_col=[0,1])\n",
    "errors = []\n",
    "for index, row in tests.iterrows(): \n",
    "    try:\n",
    "        model = pysd.read_vensim('SIR.mdl')\n",
    "        result = model.run(dict([index]), return_columns=row.index.values, \n",
    "                           return_timestamps=model.components.time()).iloc[0]\n",
    "        \n",
    "        for key, value in row.iteritems():\n",
    "            if value != '-' and result[key] != value:\n",
    "                errors += ['When %s = %s, %s is %s instead of %s' % (index[0], index[1], key, result[key], value)]\n",
    "                \n",
    "    except Exception as e:\n",
    "        errors.append('When %s = %s, %s' % (index[0], index[1], e))\n",
    "        \n",
    "print errors"
   ]
  },
  {
   "cell_type": "code",
   "execution_count": 290,
   "metadata": {
    "collapsed": false
   },
   "outputs": [
    {
     "name": "stdout",
     "output_type": "stream",
     "text": [
      "[u'When Total Population = 0.0, float division by zero']\n"
     ]
    }
   ],
   "source": [
    "tests = pd.read_excel('SIR_Extreme_Conditions.xlsx', index_col=[0,1])\n",
    "errors = []\n",
    "for index, row in tests.iterrows(): \n",
    "    try:\n",
    "        model = pysd.read_vensim('SIR.mdl')\n",
    "        result = model.run(params=dict([index]), \n",
    "                           return_columns=row.index.values, \n",
    "                           return_timestamps=0).loc[0]\n",
    "        \n",
    "        for key, value in row.iteritems():\n",
    "            if value != '-' and result[key] != value:\n",
    "                errors.append('When %s = %s, %s is %s instead of %s' % \n",
    "                              (index[0], index[1], key, result[key], value))\n",
    "                \n",
    "    except Exception as e:\n",
    "        errors.append('When %s = %s, %s' % \n",
    "                      (index[0], index[1], e))\n",
    "        \n",
    "print errors"
   ]
  },
  {
   "cell_type": "markdown",
   "metadata": {},
   "source": [
    "# Thought Experiments\n",
    "\n",
    "Contact Rate * Infectivity > 1/Recovery Time"
   ]
  },
  {
   "cell_type": "code",
   "execution_count": 357,
   "metadata": {
    "collapsed": false
   },
   "outputs": [
    {
     "data": {
      "text/plain": [
       "True"
      ]
     },
     "execution_count": 357,
     "metadata": {},
     "output_type": "execute_result"
    }
   ],
   "source": [
    "def test_reproduction_rate():\n",
    "    result = model.run(return_columns=['Contact Rate', 'Infectivity', 'Recovery Time', 'Infected'])\n",
    "    growth_expected = (result['Contact Rate'].iloc[0] * result['Infectivity'].iloc[0] > \n",
    "                       1./result['Recovery Time'].iloc[0])\n",
    "    growth_observed = result['Infected'].diff().dropna().iloc[0] >= 0\n",
    "    return growth_expected == growth_observed\n",
    "\n",
    "test_reproduction_rate()"
   ]
  },
  {
   "cell_type": "code",
   "execution_count": 360,
   "metadata": {
    "collapsed": false
   },
   "outputs": [
    {
     "data": {
      "text/plain": [
       "[{'Initial Infected': 0},\n",
       " {'Initial Infected': 1},\n",
       " {'Initial Infected': 2},\n",
       " {'Initial Infected': 3}]"
      ]
     },
     "execution_count": 360,
     "metadata": {},
     "output_type": "execute_result"
    }
   ],
   "source": [
    "def all_conditions(conditions, test):\n",
    "    for condition in conditions:\n",
    "        model.set_components(condition)\n",
    "        if not test():\n",
    "            print condition\n",
    "            return False\n",
    "    return True\n",
    "        \n",
    "conditions = [{'Initial Infected':i} for i in range(4)]\n",
    "conditions"
   ]
  },
  {
   "cell_type": "code",
   "execution_count": 359,
   "metadata": {
    "collapsed": false
   },
   "outputs": [],
   "source": [
    "conditions = [{'Initial Infected':i} for i in range(4)]\n",
    "all_conditions(conditions, test_reproduction_rate)"
   ]
  },
  {
   "cell_type": "markdown",
   "metadata": {},
   "source": [
    "# Response to parameter changes"
   ]
  },
  {
   "cell_type": "code",
   "execution_count": 313,
   "metadata": {
    "collapsed": false
   },
   "outputs": [],
   "source": [
    "model = pysd.read_vensim('SIR.mdl')\n",
    "contact_rates = range(0,100,1)\n",
    "model.set_components({'FINAL TIME':300})\n",
    "peak_infectivity = [model.run({'Contact Rate': cr}, return_columns=['Infection']).max()\n",
    "                    for cr in contact_rates]\n"
   ]
  },
  {
   "cell_type": "code",
   "execution_count": 329,
   "metadata": {
    "collapsed": true
   },
   "outputs": [],
   "source": [
    "runs = pd.DataFrame([model.run({'Contact Rate': cr}, return_columns=['Infection'])['Infection']\n",
    "                    for cr in contact_rates]).T"
   ]
  },
  {
   "cell_type": "code",
   "execution_count": 330,
   "metadata": {
    "collapsed": false
   },
   "outputs": [
    {
     "data": {
      "text/plain": [
       "(0, 100)"
      ]
     },
     "execution_count": 330,
     "metadata": {},
     "output_type": "execute_result"
    },
    {
     "data": {
      "image/png": "[encoded data removed]",
      "text/plain": [
       "<matplotlib.figure.Figure at 0x128da3810>"
      ]
     },
     "metadata": {},
     "output_type": "display_data"
    }
   ],
   "source": [
    "runs.plot(legend=False, color='b', alpha=.1)\n",
    "plt.xlim(0,100)"
   ]
  },
  {
   "cell_type": "code",
   "execution_count": null,
   "metadata": {
    "collapsed": true
   },
   "outputs": [],
   "source": [
    "    model = pysd.read_vensim('SIR.mdl')\n",
    "        model.set_components({'FINAL TIME':300})"
   ]
  },
  {
   "cell_type": "code",
   "execution_count": 342,
   "metadata": {
    "collapsed": true
   },
   "outputs": [],
   "source": [
    "from scipy import stats"
   ]
  },
  {
   "cell_type": "code",
   "execution_count": 341,
   "metadata": {
    "collapsed": false
   },
   "outputs": [
    {
     "data": {
      "text/plain": [
       "True"
      ]
     },
     "execution_count": 341,
     "metadata": {},
     "output_type": "execute_result"
    }
   ],
   "source": [
    "from scipy import stats\n",
    "def test_contact_rate_peak_infectivity_correlation(correlation_threshold):\n",
    "    contact_rates = range(0,100,3)\n",
    "    peak_infectivity = [model.run({'Contact Rate': cr}, return_columns=['Infection']).max()['Infection']\n",
    "                        for cr in contact_rates]\n",
    "    \n",
    "    r, p = stat.pearsonr(contact_rates, peak_infectivity)\n",
    "    return r > correlation_threshold and p < .05\n",
    "    \n",
    "test_contact_rate_peak_infectivity_correlation(.5)"
   ]
  },
  {
   "cell_type": "code",
   "execution_count": 336,
   "metadata": {
    "collapsed": false
   },
   "outputs": [
    {
     "ename": "ValueError",
     "evalue": "The truth value of an array with more than one element is ambiguous. Use a.any() or a.all()",
     "output_type": "error",
     "traceback": [
      "\u001b[0;31m---------------------------------------------------------------------------\u001b[0m",
      "\u001b[0;31mValueError\u001b[0m                                Traceback (most recent call last)",
      "\u001b[0;32m<ipython-input-336-71673b98c2e1>\u001b[0m in \u001b[0;36m<module>\u001b[0;34m()\u001b[0m\n\u001b[1;32m      1\u001b[0m \u001b[0;32mimport\u001b[0m \u001b[0mscipy\u001b[0m\u001b[0;34m.\u001b[0m\u001b[0mstats\u001b[0m \u001b[0;32mas\u001b[0m \u001b[0mstat\u001b[0m\u001b[0;34m\u001b[0m\u001b[0m\n\u001b[0;32m----> 2\u001b[0;31m \u001b[0mstat\u001b[0m\u001b[0;34m.\u001b[0m\u001b[0mpearsonr\u001b[0m\u001b[0;34m(\u001b[0m\u001b[0mcontact_rates\u001b[0m\u001b[0;34m,\u001b[0m \u001b[0mpeak_infectivity\u001b[0m\u001b[0;34m)\u001b[0m\u001b[0;34m\u001b[0m\u001b[0m\n\u001b[0m",
      "\u001b[0;32m/Users/houghton/anaconda/lib/python2.7/site-packages/scipy/stats/stats.pyc\u001b[0m in \u001b[0;36mpearsonr\u001b[0;34m(x, y)\u001b[0m\n\u001b[1;32m   3005\u001b[0m     \u001b[0;31m# Presumably, if abs(r) > 1, then it is only some small artifact of floating\u001b[0m\u001b[0;34m\u001b[0m\u001b[0;34m\u001b[0m\u001b[0m\n\u001b[1;32m   3006\u001b[0m     \u001b[0;31m# point arithmetic.\u001b[0m\u001b[0;34m\u001b[0m\u001b[0;34m\u001b[0m\u001b[0m\n\u001b[0;32m-> 3007\u001b[0;31m     \u001b[0mr\u001b[0m \u001b[0;34m=\u001b[0m \u001b[0mmax\u001b[0m\u001b[0;34m(\u001b[0m\u001b[0mmin\u001b[0m\u001b[0;34m(\u001b[0m\u001b[0mr\u001b[0m\u001b[0;34m,\u001b[0m \u001b[0;36m1.0\u001b[0m\u001b[0;34m)\u001b[0m\u001b[0;34m,\u001b[0m \u001b[0;34m-\u001b[0m\u001b[0;36m1.0\u001b[0m\u001b[0;34m)\u001b[0m\u001b[0;34m\u001b[0m\u001b[0m\n\u001b[0m\u001b[1;32m   3008\u001b[0m     \u001b[0mdf\u001b[0m \u001b[0;34m=\u001b[0m \u001b[0mn\u001b[0m \u001b[0;34m-\u001b[0m \u001b[0;36m2\u001b[0m\u001b[0;34m\u001b[0m\u001b[0m\n\u001b[1;32m   3009\u001b[0m     \u001b[0;32mif\u001b[0m \u001b[0mabs\u001b[0m\u001b[0;34m(\u001b[0m\u001b[0mr\u001b[0m\u001b[0;34m)\u001b[0m \u001b[0;34m==\u001b[0m \u001b[0;36m1.0\u001b[0m\u001b[0;34m:\u001b[0m\u001b[0;34m\u001b[0m\u001b[0m\n",
      "\u001b[0;31mValueError\u001b[0m: The truth value of an array with more than one element is ambiguous. Use a.any() or a.all()"
     ]
    }
   ],
   "source": [
    "import scipy.stats as stat\n",
    "stat.pearsonr(contact_rates, peak_infectivity)"
   ]
  },
  {
   "cell_type": "code",
   "execution_count": 337,
   "metadata": {
    "collapsed": false
   },
   "outputs": [
    {
     "data": {
      "text/plain": [
       "([0,\n",
       "  1,\n",
       "  2,\n",
       "  3,\n",
       "  4,\n",
       "  5,\n",
       "  6,\n",
       "  7,\n",
       "  8,\n",
       "  9,\n",
       "  10,\n",
       "  11,\n",
       "  12,\n",
       "  13,\n",
       "  14,\n",
       "  15,\n",
       "  16,\n",
       "  17,\n",
       "  18,\n",
       "  19,\n",
       "  20,\n",
       "  21,\n",
       "  22,\n",
       "  23,\n",
       "  24,\n",
       "  25,\n",
       "  26,\n",
       "  27,\n",
       "  28,\n",
       "  29,\n",
       "  30,\n",
       "  31,\n",
       "  32,\n",
       "  33,\n",
       "  34,\n",
       "  35,\n",
       "  36,\n",
       "  37,\n",
       "  38,\n",
       "  39,\n",
       "  40,\n",
       "  41,\n",
       "  42,\n",
       "  43,\n",
       "  44,\n",
       "  45,\n",
       "  46,\n",
       "  47,\n",
       "  48,\n",
       "  49,\n",
       "  50,\n",
       "  51,\n",
       "  52,\n",
       "  53,\n",
       "  54,\n",
       "  55,\n",
       "  56,\n",
       "  57,\n",
       "  58,\n",
       "  59,\n",
       "  60,\n",
       "  61,\n",
       "  62,\n",
       "  63,\n",
       "  64,\n",
       "  65,\n",
       "  66,\n",
       "  67,\n",
       "  68,\n",
       "  69,\n",
       "  70,\n",
       "  71,\n",
       "  72,\n",
       "  73,\n",
       "  74,\n",
       "  75,\n",
       "  76,\n",
       "  77,\n",
       "  78,\n",
       "  79,\n",
       "  80,\n",
       "  81,\n",
       "  82,\n",
       "  83,\n",
       "  84,\n",
       "  85,\n",
       "  86,\n",
       "  87,\n",
       "  88,\n",
       "  89,\n",
       "  90,\n",
       "  91,\n",
       "  92,\n",
       "  93,\n",
       "  94,\n",
       "  95,\n",
       "  96,\n",
       "  97,\n",
       "  98,\n",
       "  99],\n",
       " [Infection    0.0\n",
       "  dtype: float64, Infection    0.2\n",
       "  dtype: float64, Infection    0.399999\n",
       "  dtype: float64, Infection    0.599999\n",
       "  dtype: float64, Infection    0.799998\n",
       "  dtype: float64, Infection    0.999998\n",
       "  dtype: float64, Infection    1.199998\n",
       "  dtype: float64, Infection    1.399997\n",
       "  dtype: float64, Infection    1.599997\n",
       "  dtype: float64, Infection    1.799996\n",
       "  dtype: float64, Infection    1.999996\n",
       "  dtype: float64, Infection    2.199996\n",
       "  dtype: float64, Infection    2.399995\n",
       "  dtype: float64, Infection    2.599995\n",
       "  dtype: float64, Infection    2.799994\n",
       "  dtype: float64, Infection    2.999994\n",
       "  dtype: float64, Infection    3.199994\n",
       "  dtype: float64, Infection    3.399993\n",
       "  dtype: float64, Infection    3.599993\n",
       "  dtype: float64, Infection    3.799992\n",
       "  dtype: float64, Infection    3.999992\n",
       "  dtype: float64, Infection    4.199992\n",
       "  dtype: float64, Infection    4.399991\n",
       "  dtype: float64, Infection    4.599991\n",
       "  dtype: float64, Infection    4.79999\n",
       "  dtype: float64, Infection    4.99999\n",
       "  dtype: float64, Infection    5.19999\n",
       "  dtype: float64, Infection    5.399989\n",
       "  dtype: float64, Infection    5.599989\n",
       "  dtype: float64, Infection    5.799988\n",
       "  dtype: float64, Infection    5.999988\n",
       "  dtype: float64, Infection    6.199988\n",
       "  dtype: float64, Infection    6.399987\n",
       "  dtype: float64, Infection    6.599987\n",
       "  dtype: float64, Infection    6.799986\n",
       "  dtype: float64, Infection    6.999986\n",
       "  dtype: float64, Infection    7.199986\n",
       "  dtype: float64, Infection    7.399985\n",
       "  dtype: float64, Infection    7.599985\n",
       "  dtype: float64, Infection    7.799984\n",
       "  dtype: float64, Infection    7.999984\n",
       "  dtype: float64, Infection    8.199984\n",
       "  dtype: float64, Infection    8.399983\n",
       "  dtype: float64, Infection    8.599983\n",
       "  dtype: float64, Infection    8.799982\n",
       "  dtype: float64, Infection    8.999982\n",
       "  dtype: float64, Infection    9.199982\n",
       "  dtype: float64, Infection    9.399981\n",
       "  dtype: float64, Infection    9.599981\n",
       "  dtype: float64, Infection    9.79998\n",
       "  dtype: float64, Infection    9.99998\n",
       "  dtype: float64, Infection    977.814208\n",
       "  dtype: float64, Infection    3760.643828\n",
       "  dtype: float64, Infection    8191.573837\n",
       "  dtype: float64, Infection    14121.278593\n",
       "  dtype: float64, Infection    21416.043911\n",
       "  dtype: float64, Infection    29955.707906\n",
       "  dtype: float64, Infection    39632.606403\n",
       "  dtype: float64, Infection    50349.426431\n",
       "  dtype: float64, Infection    62019.313124\n",
       "  dtype: float64, Infection    74562.642025\n",
       "  dtype: float64, Infection    87908.521287\n",
       "  dtype: float64, Infection    101991.446462\n",
       "  dtype: float64, Infection    116754.944737\n",
       "  dtype: float64, Infection    132145.195039\n",
       "  dtype: float64, Infection    148113.117759\n",
       "  dtype: float64, Infection    164612.783792\n",
       "  dtype: float64, Infection    181609.193772\n",
       "  dtype: float64, Infection    199066.953648\n",
       "  dtype: float64, Infection    216945.039612\n",
       "  dtype: float64, Infection    235225.363018\n",
       "  dtype: float64, Infection    253868.679454\n",
       "  dtype: float64, Infection    272848.221395\n",
       "  dtype: float64, Infection    292152.129639\n",
       "  dtype: float64, Infection    311756.123186\n",
       "  dtype: float64, Infection    331624.925383\n",
       "  dtype: float64, Infection    351761.193299\n",
       "  dtype: float64, Infection    372147.12453\n",
       "  dtype: float64, Infection    392751.834623\n",
       "  dtype: float64, Infection    413549.171767\n",
       "  dtype: float64, Infection    434587.446662\n",
       "  dtype: float64, Infection    455783.256427\n",
       "  dtype: float64, Infection    477185.011232\n",
       "  dtype: float64, Infection    498734.661976\n",
       "  dtype: float64, Infection    520427.747851\n",
       "  dtype: float64, Infection    542295.988831\n",
       "  dtype: float64, Infection    564286.175642\n",
       "  dtype: float64, Infection    586364.921338\n",
       "  dtype: float64, Infection    608627.350518\n",
       "  dtype: float64, Infection    630971.797467\n",
       "  dtype: float64, Infection    653490.320414\n",
       "  dtype: float64, Infection    676033.851001\n",
       "  dtype: float64, Infection    698750.736569\n",
       "  dtype: float64, Infection    721508.698128\n",
       "  dtype: float64, Infection    744340.533578\n",
       "  dtype: float64, Infection    767370.003845\n",
       "  dtype: float64, Infection    790369.411276\n",
       "  dtype: float64, Infection    813411.862965\n",
       "  dtype: float64, Infection    836589.842948\n",
       "  dtype: float64, Infection    859910.671252\n",
       "  dtype: float64])"
      ]
     },
     "execution_count": 337,
     "metadata": {},
     "output_type": "execute_result"
    }
   ],
   "source": [
    "contact_rates, peak_infectivity"
   ]
  },
  {
   "cell_type": "code",
   "execution_count": 314,
   "metadata": {
    "collapsed": false
   },
   "outputs": [
    {
     "data": {
      "text/plain": [
       "Infection    859910.671252\n",
       "dtype: float64"
      ]
     },
     "execution_count": 314,
     "metadata": {},
     "output_type": "execute_result"
    }
   ],
   "source": [
    "model.run({'Contact Rate': cr}, return_columns=['Infection']).max()"
   ]
  },
  {
   "cell_type": "code",
   "execution_count": 315,
   "metadata": {
    "collapsed": false
   },
   "outputs": [
    {
     "data": {
      "text/plain": [
       "[<matplotlib.lines.Line2D at 0x11f6a6050>]"
      ]
     },
     "execution_count": 315,
     "metadata": {},
     "output_type": "execute_result"
    },
    {
     "data": {
      "image/png": "[encoded data removed]",
      "text/plain": [
       "<matplotlib.figure.Figure at 0x11ec2e050>"
      ]
     },
     "metadata": {},
     "output_type": "display_data"
    }
   ],
   "source": [
    "plt.plot(contact_rates, peak_infectivity, 'bo', alpha=.5)"
   ]
  },
  {
   "cell_type": "code",
   "execution_count": 316,
   "metadata": {
    "collapsed": true
   },
   "outputs": [],
   "source": [
    "cumulative_infections = [model.run({'Contact Rate': cr}, return_columns=['Cumulative Cases']).max()\n",
    "                    for cr in contact_rates]"
   ]
  },
  {
   "cell_type": "code",
   "execution_count": 317,
   "metadata": {
    "collapsed": false
   },
   "outputs": [
    {
     "data": {
      "text/plain": [
       "[<matplotlib.lines.Line2D at 0x11f1ac5d0>]"
      ]
     },
     "execution_count": 317,
     "metadata": {},
     "output_type": "execute_result"
    },
    {
     "data": {
      "image/png": "[encoded data removed]",
      "text/plain": [
       "<matplotlib.figure.Figure at 0x11f6f40d0>"
      ]
     },
     "metadata": {},
     "output_type": "display_data"
    }
   ],
   "source": [
    "plt.plot(contact_rates, cumulative_infections, 'bo', alpha=.5)"
   ]
  },
  {
   "cell_type": "code",
   "execution_count": null,
   "metadata": {
    "collapsed": true
   },
   "outputs": [],
   "source": []
  }
 ],
 "metadata": {
  "kernelspec": {
   "display_name": "Python 2",
   "language": "python",
   "name": "python2"
  },
  "language_info": {
   "codemirror_mode": {
    "name": "ipython",
    "version": 2
   },
   "file_extension": ".py",
   "mimetype": "text/x-python",
   "name": "python",
   "nbconvert_exporter": "python",
   "pygments_lexer": "ipython2",
   "version": "2.7.12"
  }
 },
 "nbformat": 4,
 "nbformat_minor": 0
}
